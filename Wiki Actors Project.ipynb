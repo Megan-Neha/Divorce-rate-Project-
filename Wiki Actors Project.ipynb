{
 "cells": [
  {
   "cell_type": "code",
   "execution_count": null,
   "metadata": {},
   "outputs": [],
   "source": [
    "import pandas as pd\n",
    "import numpy as np\n",
    "import wikipedia as wiki\n",
    "import requests\n",
    "from bs4 import BeautifulSoup\n",
    "import re"
   ]
  },
  {
   "cell_type": "code",
   "execution_count": null,
   "metadata": {},
   "outputs": [],
   "source": [
    "df = pd.read_csv(\"wiki-actors.csv\")"
   ]
  },
  {
   "cell_type": "code",
   "execution_count": null,
   "metadata": {},
   "outputs": [],
   "source": [
    "del df['Position']\n",
    "df.head()"
   ]
  },
  {
   "cell_type": "code",
   "execution_count": null,
   "metadata": {},
   "outputs": [],
   "source": [
    "def get_age(Name): \n",
    "    url = wiki.page(Name).url\n",
    "    \n",
    "    if not url:\n",
    "        return Name + \" url not found\"\n",
    "    \n",
    "    actor_url = requests.get(url).text\n",
    "    soup = BeautifulSoup(actor_url,'lxml')\n",
    "    actor_table = soup.find(\"table\",{\"class\":\"infobox biography vcard\"})\n",
    "    \n",
    "    if not actor_table:\n",
    "        actor_table = soup.find(\"table\",{\"class\":\"infobox vcard\"})\n",
    "        if not actor_table:\n",
    "            return Name + \" not in infobox vcard\"\n",
    "    \n",
    "    # Check is person has died (age will be in the \"Died\" section)\n",
    "    p = re.compile(\"Died\")\n",
    "    match = p.search(actor_table.text)\n",
    "    \n",
    "    if match == None:\n",
    "        age = actor_table.find(\"span\",{\"class\":\"noprint ForceAgeToShow\"}).text\n",
    "        age = age.replace(u'\\xa0', u' ').replace(' (age ', \"\").replace(\")\",\"\")\n",
    "    else:       \n",
    "        # age_match = re.search('(?<=;)\\w+', 'aged&nbsp;88')\n",
    "        # age_match = re.search('(?<= )\\w+', 'aged 88')\n",
    "        # age = age_match.group(0)\n",
    "        \n",
    "        td = soup.find(text='Died').findNext('td').text\n",
    "        aged = td.replace(u'\\xa0', u' ').replace(' (age ', \"\").replace(\")\",\"\")\n",
    "        match = re.compile(\"[0-9][0-9][a-zA-Z]\").search(aged).group(0)\n",
    "        # print(aged)\n",
    "        age = match[:2]\n",
    "    \n",
    "    return int(age)"
   ]
  },
  {
   "cell_type": "code",
   "execution_count": null,
   "metadata": {
    "scrolled": true
   },
   "outputs": [],
   "source": [
    "for name in df['Name']:\n",
    "    print(get_age(name))\n"
   ]
  },
  {
   "cell_type": "code",
   "execution_count": null,
   "metadata": {},
   "outputs": [],
   "source": [
    "def get_net_worth(Name): \n",
    "    url = wiki.page(Name).url\n",
    "    \n",
    "    if not url:\n",
    "        return Name + \" url not found\"\n",
    "    \n",
    "    actor_url = requests.get(url).text\n",
    "    soup = BeautifulSoup(actor_url,'lxml')\n",
    "    actor_table = soup.find(\"table\",{\"class\":\"infobox biography vcard\"})\n",
    "    \n",
    "    if not actor_table:\n",
    "        return Name + \" not in infobox vcard\"\n",
    "    \n",
    "    p = re.compile(\"Net worth\") \n",
    "    match = p.search(actor_table.text)\n",
    "    if match: # used the same format as 'Died' because inspect revealed similar pattern \n",
    "        td = soup.find(text='Net worth').findNext('td').text\n",
    "        return td\n",
    "    else:\n",
    "        return \"Not in vcard\"\n",
    "    \n",
    "        \n",
    "    \n",
    "    "
   ]
  },
  {
   "cell_type": "code",
   "execution_count": null,
   "metadata": {},
   "outputs": [],
   "source": [
    "def get_children_no(Name): \n",
    "     url = wiki.page(Name).url\n",
    "    \n",
    "    if not url:\n",
    "        return Name + \" url not found\"\n",
    "    \n",
    "    actor_url = requests.get(url).text\n",
    "    soup = BeautifulSoup(actor_url,'lxml')\n",
    "    actor_table = soup.find(\"table\",{\"class\":\"infobox biography vcard\"})\n",
    "    \n",
    "    if not actor_table:\n",
    "        actor_table = soup.find(\"table\",{\"class\":\"infobox vcard\"})\n",
    "        if not actor_table:\n",
    "            return Name + \" not in infobox vcard\"\n",
    "            p = re.compile(\"Children\") \n",
    "            match = p.search(actor_table.text)\n",
    "            if match: # used the same format as 'Died' because inspect revealed similar pattern \n",
    "                td = soup.find(text='Children').findNext('td').text\n",
    "                return td\n",
    "            else:\n",
    "                return \"Not in vcard\"\n",
    "        \n",
    "    "
   ]
  },
  {
   "cell_type": "code",
   "execution_count": null,
   "metadata": {},
   "outputs": [],
   "source": []
  }
 ],
 "metadata": {
  "kernelspec": {
   "display_name": "Python 3",
   "language": "python",
   "name": "python3"
  },
  "language_info": {
   "codemirror_mode": {
    "name": "ipython",
    "version": 3
   },
   "file_extension": ".py",
   "mimetype": "text/x-python",
   "name": "python",
   "nbconvert_exporter": "python",
   "pygments_lexer": "ipython3",
   "version": "3.6.5"
  }
 },
 "nbformat": 4,
 "nbformat_minor": 2
}
